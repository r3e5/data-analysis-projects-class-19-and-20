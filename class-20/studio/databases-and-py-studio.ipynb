{
 "cells": [
  {
   "attachments": {},
   "cell_type": "markdown",
   "metadata": {
    "azdata_cell_guid": "54326aff-51cd-4766-8046-828a92489c6d"
   },
   "source": [
    "# Studio: Working with Databases in Python\n",
    "\n",
    "For today's studio, we will be using the [TV Shows dataset](https://www.kaggle.com/ruchi798/tv-shows-on-netflix-prime-video-hulu-and-disney) from Kaggle. We have already downloaded the CSV for you.\n",
    "\n",
    "You will use the watchlist you created to answer these questions:\n",
    "\n",
    "1. **Which streaming services contain the shows you want to watch next?**\n",
    "2. **Which streaming service is the best value based on the shows you want to watch?**\n",
    "\n",
    "As you complete the different tasks in the studio, you may choose between using Pandas or SQL. \n",
    "\n",
    "**Remember**: we learned in our prep work that one is oftentimes more efficient at certain tasks than the other, so choose wisely!"
   ]
  },
  {
   "attachments": {},
   "cell_type": "markdown",
   "metadata": {
    "azdata_cell_guid": "00bc62ef-6c46-40a2-bdad-a3250a003ce7",
    "jp-MarkdownHeadingCollapsed": true
   },
   "source": [
    "## My Watchlist\n",
    "\n",
    "If you would like, please use this space to make note of your watchlist by editing the text cell. You will need 10 shows overall.\n",
    "\n",
    "1. Friends\n",
    "2. The Walking Dead\n",
    "3. Breaking Bad\n",
    "4. How I met your mother\n",
    "5. Seinfeld\n",
    "6. Big Bang Theory\n",
    "7. Gilmore Girls\n",
    "8. One Tree Hill\n",
    "9. Grey's Anatomy\n",
    "10. ER"
   ]
  },
  {
   "cell_type": "markdown",
   "metadata": {
    "azdata_cell_guid": "040bdac5-f7fc-474f-b112-1d807249ad0a"
   },
   "source": [
    "## Database Setup\n",
    "\n",
    "Import the necessary libraries and create a dataframe from the provided CSV. \n",
    "\n",
    "Print the info out for the dataframe. \n",
    "\n",
    "After that, you may drop the column called `Unnamed: 0` and rename any columns with spaces or unusual characters in the names such as `\"Disney+\"`. \n",
    "\n",
    "Print out the info for the dataframe again to ensure your changes were made."
   ]
  },
  {
   "cell_type": "code",
   "execution_count": 53,
   "metadata": {
    "azdata_cell_guid": "965f15d3-27b1-43ed-97e4-8c6fd482476c",
    "tags": []
   },
   "outputs": [
    {
     "data": {
      "text/html": [
       "<div>\n",
       "<style scoped>\n",
       "    .dataframe tbody tr th:only-of-type {\n",
       "        vertical-align: middle;\n",
       "    }\n",
       "\n",
       "    .dataframe tbody tr th {\n",
       "        vertical-align: top;\n",
       "    }\n",
       "\n",
       "    .dataframe thead th {\n",
       "        text-align: right;\n",
       "    }\n",
       "</style>\n",
       "<table border=\"1\" class=\"dataframe\">\n",
       "  <thead>\n",
       "    <tr style=\"text-align: right;\">\n",
       "      <th></th>\n",
       "      <th>ID</th>\n",
       "      <th>Title</th>\n",
       "      <th>Year</th>\n",
       "      <th>Age</th>\n",
       "      <th>IMDb</th>\n",
       "      <th>rotten_tomatoes</th>\n",
       "      <th>Netflix</th>\n",
       "      <th>Hulu</th>\n",
       "      <th>prime_video</th>\n",
       "      <th>disney_plus</th>\n",
       "      <th>Type</th>\n",
       "    </tr>\n",
       "  </thead>\n",
       "  <tbody>\n",
       "    <tr>\n",
       "      <th>0</th>\n",
       "      <td>1</td>\n",
       "      <td>Breaking Bad</td>\n",
       "      <td>2008</td>\n",
       "      <td>18+</td>\n",
       "      <td>9.4/10</td>\n",
       "      <td>100/100</td>\n",
       "      <td>1</td>\n",
       "      <td>0</td>\n",
       "      <td>0</td>\n",
       "      <td>0</td>\n",
       "      <td>1</td>\n",
       "    </tr>\n",
       "    <tr>\n",
       "      <th>1</th>\n",
       "      <td>2</td>\n",
       "      <td>Stranger Things</td>\n",
       "      <td>2016</td>\n",
       "      <td>16+</td>\n",
       "      <td>8.7/10</td>\n",
       "      <td>96/100</td>\n",
       "      <td>1</td>\n",
       "      <td>0</td>\n",
       "      <td>0</td>\n",
       "      <td>0</td>\n",
       "      <td>1</td>\n",
       "    </tr>\n",
       "    <tr>\n",
       "      <th>2</th>\n",
       "      <td>3</td>\n",
       "      <td>Attack on Titan</td>\n",
       "      <td>2013</td>\n",
       "      <td>18+</td>\n",
       "      <td>9.0/10</td>\n",
       "      <td>95/100</td>\n",
       "      <td>1</td>\n",
       "      <td>1</td>\n",
       "      <td>0</td>\n",
       "      <td>0</td>\n",
       "      <td>1</td>\n",
       "    </tr>\n",
       "    <tr>\n",
       "      <th>3</th>\n",
       "      <td>4</td>\n",
       "      <td>Better Call Saul</td>\n",
       "      <td>2015</td>\n",
       "      <td>18+</td>\n",
       "      <td>8.8/10</td>\n",
       "      <td>94/100</td>\n",
       "      <td>1</td>\n",
       "      <td>0</td>\n",
       "      <td>0</td>\n",
       "      <td>0</td>\n",
       "      <td>1</td>\n",
       "    </tr>\n",
       "    <tr>\n",
       "      <th>4</th>\n",
       "      <td>5</td>\n",
       "      <td>Dark</td>\n",
       "      <td>2017</td>\n",
       "      <td>16+</td>\n",
       "      <td>8.8/10</td>\n",
       "      <td>93/100</td>\n",
       "      <td>1</td>\n",
       "      <td>0</td>\n",
       "      <td>0</td>\n",
       "      <td>0</td>\n",
       "      <td>1</td>\n",
       "    </tr>\n",
       "    <tr>\n",
       "      <th>5</th>\n",
       "      <td>6</td>\n",
       "      <td>Avatar: The Last Airbender</td>\n",
       "      <td>2005</td>\n",
       "      <td>7+</td>\n",
       "      <td>9.3/10</td>\n",
       "      <td>93/100</td>\n",
       "      <td>1</td>\n",
       "      <td>0</td>\n",
       "      <td>1</td>\n",
       "      <td>0</td>\n",
       "      <td>1</td>\n",
       "    </tr>\n",
       "    <tr>\n",
       "      <th>6</th>\n",
       "      <td>7</td>\n",
       "      <td>Peaky Blinders</td>\n",
       "      <td>2013</td>\n",
       "      <td>18+</td>\n",
       "      <td>8.8/10</td>\n",
       "      <td>93/100</td>\n",
       "      <td>1</td>\n",
       "      <td>0</td>\n",
       "      <td>0</td>\n",
       "      <td>0</td>\n",
       "      <td>1</td>\n",
       "    </tr>\n",
       "    <tr>\n",
       "      <th>7</th>\n",
       "      <td>8</td>\n",
       "      <td>The Walking Dead</td>\n",
       "      <td>2010</td>\n",
       "      <td>18+</td>\n",
       "      <td>8.2/10</td>\n",
       "      <td>93/100</td>\n",
       "      <td>1</td>\n",
       "      <td>0</td>\n",
       "      <td>0</td>\n",
       "      <td>0</td>\n",
       "      <td>1</td>\n",
       "    </tr>\n",
       "    <tr>\n",
       "      <th>8</th>\n",
       "      <td>9</td>\n",
       "      <td>Black Mirror</td>\n",
       "      <td>2011</td>\n",
       "      <td>18+</td>\n",
       "      <td>8.8/10</td>\n",
       "      <td>92/100</td>\n",
       "      <td>1</td>\n",
       "      <td>0</td>\n",
       "      <td>0</td>\n",
       "      <td>0</td>\n",
       "      <td>1</td>\n",
       "    </tr>\n",
       "    <tr>\n",
       "      <th>9</th>\n",
       "      <td>10</td>\n",
       "      <td>The Queen's Gambit</td>\n",
       "      <td>2020</td>\n",
       "      <td>18+</td>\n",
       "      <td>8.6/10</td>\n",
       "      <td>92/100</td>\n",
       "      <td>1</td>\n",
       "      <td>0</td>\n",
       "      <td>0</td>\n",
       "      <td>0</td>\n",
       "      <td>1</td>\n",
       "    </tr>\n",
       "  </tbody>\n",
       "</table>\n",
       "</div>"
      ],
      "text/plain": [
       "   ID                       Title  Year  Age    IMDb rotten_tomatoes  Netflix  \\\n",
       "0   1                Breaking Bad  2008  18+  9.4/10         100/100        1   \n",
       "1   2             Stranger Things  2016  16+  8.7/10          96/100        1   \n",
       "2   3             Attack on Titan  2013  18+  9.0/10          95/100        1   \n",
       "3   4            Better Call Saul  2015  18+  8.8/10          94/100        1   \n",
       "4   5                        Dark  2017  16+  8.8/10          93/100        1   \n",
       "5   6  Avatar: The Last Airbender  2005   7+  9.3/10          93/100        1   \n",
       "6   7              Peaky Blinders  2013  18+  8.8/10          93/100        1   \n",
       "7   8            The Walking Dead  2010  18+  8.2/10          93/100        1   \n",
       "8   9                Black Mirror  2011  18+  8.8/10          92/100        1   \n",
       "9  10          The Queen's Gambit  2020  18+  8.6/10          92/100        1   \n",
       "\n",
       "   Hulu  prime_video  disney_plus  Type  \n",
       "0     0            0            0     1  \n",
       "1     0            0            0     1  \n",
       "2     1            0            0     1  \n",
       "3     0            0            0     1  \n",
       "4     0            0            0     1  \n",
       "5     0            1            0     1  \n",
       "6     0            0            0     1  \n",
       "7     0            0            0     1  \n",
       "8     0            0            0     1  \n",
       "9     0            0            0     1  "
      ]
     },
     "execution_count": 53,
     "metadata": {},
     "output_type": "execute_result"
    }
   ],
   "source": [
    "# Code here\n",
    "import numpy as np\n",
    "import pandas as pd\n",
    "import sqlite3 as sl\n",
    "\n",
    "# df = pd.read_csv('tv_shows.csv')\n",
    "# df = df.drop('Unnamed: 0', axis=1)\n",
    "# df = df.rename(columns={'Rotten Tomatoes':'rotten_tomatoes', 'Prime Video':'prime_video', 'Disney+':'disney_plus'})\n",
    "df.head(10)"
   ]
  },
  {
   "attachments": {},
   "cell_type": "markdown",
   "metadata": {
    "azdata_cell_guid": "93875e01-f1ec-45ab-b8b3-c0fe09c89c41"
   },
   "source": [
    "With your dataframe at the ready, create a new database called `tv.db`. \n",
    "\n",
    "Add a new table to your database called `shows` using the data in the dataframe. "
   ]
  },
  {
   "cell_type": "code",
   "execution_count": 82,
   "metadata": {
    "azdata_cell_guid": "cae4affc-d930-4649-9c39-551475a83b5b",
    "tags": []
   },
   "outputs": [],
   "source": [
    "# Code here\n",
    "tv_db = sl.connect('tv.db')\n",
    "cur = tv_db.cursor()"
   ]
  },
  {
   "attachments": {},
   "cell_type": "markdown",
   "metadata": {
    "azdata_cell_guid": "4916f211-149f-467b-b5e4-22ad946b54f2"
   },
   "source": [
    "With your new table and database set up, print out the top 20 records in the `shows` table."
   ]
  },
  {
   "cell_type": "code",
   "execution_count": 23,
   "metadata": {
    "azdata_cell_guid": "c6aa3980-3eef-4d7d-8f04-961508662147",
    "tags": []
   },
   "outputs": [],
   "source": [
    "# Code Here\n",
    "df.to_sql('df',tv_db, if_exists='replace')\n",
    "with tv_db:\n",
    "    tv_db.execute(\n",
    "        \"\"\"\n",
    "        create table shows as\n",
    "        select * from df\n",
    "        \"\"\"\n",
    "    )"
   ]
  },
  {
   "cell_type": "code",
   "execution_count": 43,
   "metadata": {
    "azdata_cell_guid": "c6aa3980-3eef-4d7d-8f04-961508662147",
    "tags": []
   },
   "outputs": [
    {
     "name": "stdout",
     "output_type": "stream",
     "text": [
      "(0, 1, 'Breaking Bad', 2008, '18+', '9.4/10', '100/100', 1, 0, 0, 0, 1)\n",
      "(1, 2, 'Stranger Things', 2016, '16+', '8.7/10', '96/100', 1, 0, 0, 0, 1)\n",
      "(2, 3, 'Attack on Titan', 2013, '18+', '9.0/10', '95/100', 1, 1, 0, 0, 1)\n",
      "(3, 4, 'Better Call Saul', 2015, '18+', '8.8/10', '94/100', 1, 0, 0, 0, 1)\n",
      "(4, 5, 'Dark', 2017, '16+', '8.8/10', '93/100', 1, 0, 0, 0, 1)\n",
      "(5, 6, 'Avatar: The Last Airbender', 2005, '7+', '9.3/10', '93/100', 1, 0, 1, 0, 1)\n",
      "(6, 7, 'Peaky Blinders', 2013, '18+', '8.8/10', '93/100', 1, 0, 0, 0, 1)\n",
      "(7, 8, 'The Walking Dead', 2010, '18+', '8.2/10', '93/100', 1, 0, 0, 0, 1)\n",
      "(8, 9, 'Black Mirror', 2011, '18+', '8.8/10', '92/100', 1, 0, 0, 0, 1)\n",
      "(9, 10, \"The Queen's Gambit\", 2020, '18+', '8.6/10', '92/100', 1, 0, 0, 0, 1)\n",
      "(10, 11, 'Mindhunter', 2017, '18+', '8.6/10', '90/100', 1, 0, 0, 0, 1)\n",
      "(11, 12, 'Community', 2009, '7+', '8.5/10', '90/100', 1, 1, 1, 0, 1)\n",
      "(12, 13, 'Narcos', 2015, '18+', '8.8/10', '90/100', 1, 0, 0, 0, 1)\n",
      "(13, 14, 'Shameless', 2011, '18+', '8.5/10', '90/100', 1, 1, 1, 0, 1)\n",
      "(14, 15, 'Money Heist', 2017, '18+', '8.3/10', '90/100', 1, 0, 0, 0, 1)\n",
      "(15, 16, \"Marvel's Daredevil\", 2015, '18+', '8.6/10', '90/100', 1, 0, 0, 0, 1)\n",
      "(16, 17, 'Lucifer', 2016, '16+', '8.1/10', '90/100', 1, 0, 0, 0, 1)\n",
      "(17, 18, 'Supernatural', 2005, '16+', '8.4/10', '89/100', 1, 0, 0, 0, 1)\n",
      "(18, 19, 'The Witcher', 2019, '18+', '8.2/10', '89/100', 1, 0, 0, 0, 1)\n",
      "(19, 20, 'Ozark', 2017, '18+', '8.4/10', '89/100', 1, 0, 0, 0, 1)\n"
     ]
    }
   ],
   "source": []
  },
  {
   "attachments": {},
   "cell_type": "markdown",
   "metadata": {
    "azdata_cell_guid": "f158ccd2-c87a-4d2c-a947-0eadd0484a3e"
   },
   "source": [
    "Now, create a new table called `watchlist` that has three fields:\n",
    "1. id -> data type of `INTEGER NOT NULL PRIMARY KEY AUTOINCREMENT`\n",
    "2. title -> data type of `TEXT`\n",
    "3. importance_rank -> data type of `INTEGER`\n",
    "\n",
    "For the `importance_rank` field, rank each of your watchlist shows based on how much you want to see them, `10` being the most important and `1` being the least important.\n",
    "\n",
    "Then, insert each of the items from your watchlist into the new `watchlist` table, using the `executemany` method from our exercises.\n",
    "\n",
    "Finally, select all the records from the `watchlist` table and print them out to the console."
   ]
  },
  {
   "cell_type": "code",
   "execution_count": 48,
   "metadata": {
    "azdata_cell_guid": "f95defad-521b-4112-8435-08daaac80b80"
   },
   "outputs": [],
   "source": [
    "# Code here\n",
    "with tv_db:\n",
    "    tv_db.executescript(\"\"\"\n",
    "        BEGIN;\n",
    "        CREATE TABLE watchlist (id INTEGER NOT NULL PRIMARY KEY AUTOINCREMENT, title TEXT, importance_rank INTEGER);\n",
    "        COMMIT\n",
    "    \"\"\")\n",
    "\n",
    "new_table_content = 'INSERT INTO watchlist (title, importance_rank) VALUES(?, ?)'\n",
    "data = [\n",
    "    ('Friends',1),\n",
    "    ('The Walking Dead',2),\n",
    "    ('Breaking Bad',3),\n",
    "    ('How I Met Your Mother',4),\n",
    "    ('Seinfeld',5),\n",
    "    ('Big Bang Theory',6),\n",
    "    ('Gilmore Girls',7),\n",
    "    ('One Tree Hill',8),\n",
    "    (\"Grey's Anatomy\",9),\n",
    "    ('ER',10)\n",
    "]\n",
    "\n",
    "with tv_db:\n",
    "    tv_db.executemany(new_table_content, data)"
   ]
  },
  {
   "cell_type": "code",
   "execution_count": 49,
   "metadata": {
    "azdata_cell_guid": "f95defad-521b-4112-8435-08daaac80b80"
   },
   "outputs": [
    {
     "name": "stdout",
     "output_type": "stream",
     "text": [
      "(1, 'Friends', 1)\n",
      "(2, 'The Walking Dead', 2)\n",
      "(3, 'Breaking Bad', 3)\n",
      "(4, 'How I Met Your Mother', 4)\n",
      "(5, 'Seinfeld', 5)\n",
      "(6, 'Big Bang Theory', 6)\n",
      "(7, 'Gilmore Girls', 7)\n",
      "(8, 'One Tree Hill', 8)\n",
      "(9, \"Grey's Anatomy\", 9)\n",
      "(10, 'ER', 10)\n"
     ]
    }
   ],
   "source": [
    "# Code here\n",
    "with tv_db:\n",
    "    data = tv_db.execute(\"SELECT * FROM watchlist\")\n",
    "    for row in data:\n",
    "        print(row)"
   ]
  },
  {
   "cell_type": "code",
   "execution_count": 50,
   "metadata": {
    "azdata_cell_guid": "f95defad-521b-4112-8435-08daaac80b80"
   },
   "outputs": [],
   "source": [
    "# Code here\n",
    "tv_db.close()"
   ]
  },
  {
   "attachments": {},
   "cell_type": "markdown",
   "metadata": {
    "azdata_cell_guid": "4716090d-63e3-4283-8245-934c4a28c750"
   },
   "source": [
    "## Working with the Data\n",
    "\n",
    "Using Pandas or SQL, find the answer to these 2 questions:\n",
    "1. How many of the total shows (full csv list) are on each streaming service?\n",
    "2. What percentage of these total shows is available on each streaming service?\n",
    "\n",
    "**Hint**:\n",
    "\n",
    "Use the pandas `query` method to filter the data, and then the Python `len` method to find it's length. [Relevant Link](https://www.geeksforgeeks.org/ways-to-filter-pandas-dataframe-by-column-values/)"
   ]
  },
  {
   "cell_type": "code",
   "execution_count": 74,
   "metadata": {
    "azdata_cell_guid": "8e4f3757-474f-4e20-b861-db973437b541"
   },
   "outputs": [
    {
     "name": "stdout",
     "output_type": "stream",
     "text": [
      "The total shows on Netflix is: 1971\n",
      "The percentage for Netflix is: 36.72\n",
      "The total shows on Hulu is: 1621\n",
      "The total percentage for Hulu is: 30.2\n",
      "The total shows on Prime Video is: 1831\n",
      "The total percentage for Prime Video is: 34.11\n",
      "The total shows on Disney+ is: 351\n",
      "The total percent for Disney+ is: 6.54\n"
     ]
    }
   ],
   "source": [
    "# Code here\n",
    "show_total = df['Title'].count()\n",
    "\n",
    "netflix_total = df['Netflix'].sum()\n",
    "netflix_percent = (netflix_total/show_total * 100).round(2)\n",
    "print('The total shows on Netflix is:',netflix_total)\n",
    "print('The percentage for Netflix is:',netflix_percent)\n",
    "\n",
    "hulu_total = df['Hulu'].sum()\n",
    "hulu_percent = (hulu_total/show_total * 100).round(2)\n",
    "print('The total shows on Hulu is:',hulu_total)\n",
    "print('The total percentage for Hulu is:',hulu_percent)\n",
    "\n",
    "prime_total = df['prime_video'].sum()\n",
    "prime_percent = (prime_total/show_total * 100).round(2)\n",
    "print('The total shows on Prime Video is:',prime_total)\n",
    "print('The total percentage for Prime Video is:',prime_percent)\n",
    "\n",
    "disney_total = df['disney_plus'].sum()\n",
    "disney_percent = (disney_total/show_total * 100).round(2)\n",
    "print('The total shows on Disney+ is:', disney_total)\n",
    "print('The total percent for Disney+ is:',disney_percent)"
   ]
  },
  {
   "attachments": {},
   "cell_type": "markdown",
   "metadata": {
    "azdata_cell_guid": "167cbd0d-ad9f-4f27-8066-e45dfdfaf421"
   },
   "source": [
    "\n",
    "Now join your `watchlist` data to the `shows` data using pandas or SQL. Verify that you joined the data correctly.\n",
    "\n",
    "Using this related dataset, come up with analytic code that answers these questions:\n",
    "1. The number of watchlist shows each streaming service has\n",
    "2. The percentage of your overall watchlist each streaming service has\n"
   ]
  },
  {
   "cell_type": "code",
   "execution_count": 84,
   "metadata": {
    "azdata_cell_guid": "b871523e-a476-4f3a-a6ac-2e251f140e84"
   },
   "outputs": [
    {
     "name": "stdout",
     "output_type": "stream",
     "text": [
      "('Breaking Bad', 1, 0, 0, 0)\n",
      "('The Walking Dead', 1, 0, 0, 0)\n",
      "(\"Grey's Anatomy\", 1, 1, 0, 0)\n",
      "('Gilmore Girls', 1, 0, 0, 0)\n",
      "('Seinfeld', 0, 1, 0, 0)\n",
      "('How I Met Your Mother', 0, 1, 1, 0)\n",
      "('One Tree Hill', 0, 1, 0, 0)\n",
      "('ER', 0, 1, 0, 0)\n"
     ]
    }
   ],
   "source": [
    "# Code here\n",
    "with tv_db:\n",
    "    cur.execute(\"\"\"\n",
    "        SELECT shows.Title, shows.Netflix, shows.Hulu, shows.prime_video, shows.disney_plus\n",
    "        FROM shows\n",
    "        INNER JOIN watchlist\n",
    "        ON shows.Title = watchlist.title\n",
    "        \"\"\")\n",
    "rows = cur.fetchall()\n",
    "for row in rows:\n",
    "    print(row)"
   ]
  },
  {
   "cell_type": "code",
   "execution_count": 95,
   "metadata": {
    "azdata_cell_guid": "b871523e-a476-4f3a-a6ac-2e251f140e84"
   },
   "outputs": [
    {
     "name": "stdout",
     "output_type": "stream",
     "text": [
      "(4, 5, 1, 0)\n"
     ]
    }
   ],
   "source": [
    "# Code here\n",
    "with tv_db:\n",
    "    cur.execute(\"\"\"\n",
    "    SELECT \n",
    "        SUM(shows.Netflix) AS netflix_count,\n",
    "        SUM(shows.Hulu) AS hulu_count,\n",
    "        SUM(shows.prime_video) AS primevideo_count,\n",
    "        SUM(shows.disney_plus) AS disneyplus_count\n",
    "    FROM shows\n",
    "    INNER JOIN watchlist\n",
    "    ON shows.Title = watchlist.title;\n",
    "\"\"\")\n",
    "rows = cur.fetchall()\n",
    "for row in rows:\n",
    "    print(row)"
   ]
  },
  {
   "cell_type": "code",
   "execution_count": 94,
   "metadata": {
    "azdata_cell_guid": "b871523e-a476-4f3a-a6ac-2e251f140e84"
   },
   "outputs": [
    {
     "name": "stdout",
     "output_type": "stream",
     "text": [
      "The percentage of my watchlist on Netflix is: 40.0\n",
      "The percentage of my watchlsit on Hulu is: 50.0\n",
      "The percentage of my watchlist on Prime Video is: 10.0\n",
      "The percentage of my watchlist on Disney+ is: 0.0\n"
     ]
    }
   ],
   "source": [
    "# Code here\n",
    "with tv_db:\n",
    "    cur.execute(\"\"\"\n",
    "    SELECT \n",
    "        SUM(shows.Netflix) AS netflix_count,\n",
    "        SUM(shows.Hulu) AS hulu_count,\n",
    "        SUM(shows.prime_video) AS primevideo_count,\n",
    "        SUM(shows.disney_plus) AS disneyplus_count\n",
    "    FROM shows\n",
    "    INNER JOIN watchlist\n",
    "    ON shows.Title = watchlist.title;\n",
    "    \"\"\")\n",
    "\n",
    "watchlist_total = 10\n",
    "result = cur.fetchone()\n",
    "\n",
    "netflix_count = result[0]\n",
    "hulu_count = result[1]\n",
    "prime_video_count = result[2]\n",
    "disney_plus_count = result[3]\n",
    "\n",
    "netflix_watchlist_percent = netflix_count/watchlist_total * 100\n",
    "print('The percentage of my watchlist on Netflix is:',netflix_watchlist_percent)\n",
    "hulu_watchlist_percent = hulu_count/watchlist_total * 100\n",
    "print('The percentage of my watchlsit on Hulu is:',hulu_watchlist_percent)\n",
    "prime_video_percent = prime_video_count/watchlist_total * 100\n",
    "print('The percentage of my watchlist on Prime Video is:',prime_video_percent)\n",
    "disney_watchlist_percent = disney_plus_count/watchlist_total * 100\n",
    "print('The percentage of my watchlist on Disney+ is:',disney_watchlist_percent)"
   ]
  },
  {
   "cell_type": "markdown",
   "metadata": {
    "azdata_cell_guid": "909689e4-1aae-41e3-b1f8-158ebe5ec3ca"
   },
   "source": [
    "## Results\n",
    "\n",
    "Now that you have done your analysis, make note of the answers to the following questions by editing the text cell:\n",
    "\n",
    "1. Was every show on your watchlist in the Kaggle dataset? Do you have any ideas as to why a show might not have been present?\n",
    "\n",
    "- Yes they were all on the dataset. If they werent it could be because the dataset is outdated or i spelled something differently.\n",
    "\n",
    "2. Did you include a show or shows in your watchlist that is exclusive to one of the platforms? How might that have impacted your analysis?\n",
    "\n",
    "- Not to my knowledge but it would have skewed the analysis towards that platform.\n",
    "\n",
    "3. Which streaming service(s) offered the most shows on your watchlist? Which streaming service(s) offered the least?\n",
    "\n",
    "- Hulu offered them ost at 50% while Disney+ offered a grand 0%.\n",
    "\n",
    "4. Based on the shows you want to watch and the results of your analysis, is there a streaming service you think would be a good fit for you?\n",
    "\n",
    "- Hulu would have the most content im interested in watching."
   ]
  },
  {
   "cell_type": "markdown",
   "metadata": {},
   "source": [
    "# Bonus Mission\n",
    "\n",
    "We didn't end up using that `importance_rank` field, did we?\n",
    "\n",
    "Well, that was intentional! \n",
    "\n",
    "Your bonus mission is to come up with analysis that uses that field to determine, based on watchlist show importance_rank and number of watchlist shows available on a service, which platform you should subscribe to."
   ]
  },
  {
   "cell_type": "code",
   "execution_count": null,
   "metadata": {},
   "outputs": [],
   "source": [
    "# Code Here"
   ]
  }
 ],
 "metadata": {
  "kernelspec": {
   "display_name": "Python 3 (ipykernel)",
   "language": "python",
   "name": "python3"
  },
  "language_info": {
   "codemirror_mode": {
    "name": "ipython",
    "version": 3
   },
   "file_extension": ".py",
   "mimetype": "text/x-python",
   "name": "python",
   "nbconvert_exporter": "python",
   "pygments_lexer": "ipython3",
   "version": "3.12.5"
  }
 },
 "nbformat": 4,
 "nbformat_minor": 4
}
