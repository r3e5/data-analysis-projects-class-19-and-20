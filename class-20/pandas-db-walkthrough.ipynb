{
 "cells": [
  {
   "cell_type": "code",
   "execution_count": 1,
   "id": "9e7a7760-3fe5-4813-9715-e8d1be9a21c1",
   "metadata": {},
   "outputs": [],
   "source": [
    "import sqlite3\n",
    "import pandas as pd"
   ]
  },
  {
   "cell_type": "code",
   "execution_count": 2,
   "id": "83ded5fb-c0ce-4e41-9e4e-188c392868a4",
   "metadata": {},
   "outputs": [
    {
     "data": {
      "text/html": [
       "<div>\n",
       "<style scoped>\n",
       "    .dataframe tbody tr th:only-of-type {\n",
       "        vertical-align: middle;\n",
       "    }\n",
       "\n",
       "    .dataframe tbody tr th {\n",
       "        vertical-align: top;\n",
       "    }\n",
       "\n",
       "    .dataframe thead th {\n",
       "        text-align: right;\n",
       "    }\n",
       "</style>\n",
       "<table border=\"1\" class=\"dataframe\">\n",
       "  <thead>\n",
       "    <tr style=\"text-align: right;\">\n",
       "      <th></th>\n",
       "      <th>title</th>\n",
       "      <th>genre</th>\n",
       "      <th>release</th>\n",
       "      <th>rt_score</th>\n",
       "    </tr>\n",
       "  </thead>\n",
       "  <tbody>\n",
       "    <tr>\n",
       "      <th>0</th>\n",
       "      <td>Insterstellar</td>\n",
       "      <td>Science Fiction</td>\n",
       "      <td>2014</td>\n",
       "      <td>73</td>\n",
       "    </tr>\n",
       "    <tr>\n",
       "      <th>1</th>\n",
       "      <td>Pride and Prejudice</td>\n",
       "      <td>Novel</td>\n",
       "      <td>2005</td>\n",
       "      <td>87</td>\n",
       "    </tr>\n",
       "    <tr>\n",
       "      <th>2</th>\n",
       "      <td>Inception</td>\n",
       "      <td>Science Fiction</td>\n",
       "      <td>2010</td>\n",
       "      <td>87</td>\n",
       "    </tr>\n",
       "    <tr>\n",
       "      <th>3</th>\n",
       "      <td>Barbie</td>\n",
       "      <td>Comedy</td>\n",
       "      <td>2023</td>\n",
       "      <td>88</td>\n",
       "    </tr>\n",
       "    <tr>\n",
       "      <th>4</th>\n",
       "      <td>Good Will Hunting</td>\n",
       "      <td>Drama</td>\n",
       "      <td>1997</td>\n",
       "      <td>97</td>\n",
       "    </tr>\n",
       "  </tbody>\n",
       "</table>\n",
       "</div>"
      ],
      "text/plain": [
       "                 title            genre  release  rt_score\n",
       "0        Insterstellar  Science Fiction     2014        73\n",
       "1  Pride and Prejudice            Novel     2005        87\n",
       "2            Inception  Science Fiction     2010        87\n",
       "3               Barbie           Comedy     2023        88\n",
       "4    Good Will Hunting            Drama     1997        97"
      ]
     },
     "execution_count": 2,
     "metadata": {},
     "output_type": "execute_result"
    }
   ],
   "source": [
    "# Create sqlite connection to Movies.db file\n",
    "movies_db = sqlite3.connect('Movies.db')\n",
    "\n",
    "# Use the read_sql_query funnction to return a pandas DataFrame\n",
    "df = pd.read_sql_query('Select * from movies;', movies_db)\n",
    "\n",
    "# Use .head() function to return first five rows (there are only 5 rows currently)\n",
    "df.head()"
   ]
  },
  {
   "cell_type": "code",
   "execution_count": null,
   "id": "bea1965f-5e65-4c6c-b592-77bcfba45c6d",
   "metadata": {},
   "outputs": [],
   "source": [
    "# Create new dataframe to add row to existing dataframe\n",
    "new_movie = pd.DataFrame([{'title':'Dune', 'genre':'Science Fiction', 'release':2021, 'rt_score': 83}])\n",
    "# Concat dataframe into existing\n",
    "df = pd.concat([df, new_movie], ignore_index=True)\n",
    "# Show change\n",
    "df.head(6)"
   ]
  },
  {
   "cell_type": "code",
   "execution_count": null,
   "id": "58e70d90-9996-49a6-a12c-9b768862171b",
   "metadata": {
    "scrolled": true
   },
   "outputs": [],
   "source": [
    "# Inject dataframe into database as new table\n",
    "df.to_sql('df', movies_db, if_exists=\"replace\")\n",
    "# Execute command against database\n",
    "movies_db.execute(\n",
    "    \"\"\"\n",
    "    create table new_movie_table as\n",
    "    select * from df\n",
    "    \"\"\"\n",
    ")"
   ]
  },
  {
   "cell_type": "code",
   "execution_count": null,
   "id": "5d68477d-612a-42ee-a7ff-0375b1306c80",
   "metadata": {},
   "outputs": [],
   "source": [
    "# Read data from newly created table, passing in existing movies_db connection as parameter\n",
    "new_movies_df = pd.read_sql_query('Select * from new_movie_table;', movies_db)\n",
    "# Read first 6 rows\n",
    "new_movies_df.head(6)"
   ]
  },
  {
   "cell_type": "code",
   "execution_count": null,
   "id": "c2bc2c4d-5c23-4fb0-9aef-7b321ea27653",
   "metadata": {},
   "outputs": [],
   "source": [
    "# MAKE SURE to close the db connection when we're done with it.\n",
    "## Leaving open connections hanging around can cause our database to be locked \n",
    "movies_db.close()"
   ]
  }
 ],
 "metadata": {
  "kernelspec": {
   "display_name": "Python 3 (ipykernel)",
   "language": "python",
   "name": "python3"
  },
  "language_info": {
   "codemirror_mode": {
    "name": "ipython",
    "version": 3
   },
   "file_extension": ".py",
   "mimetype": "text/x-python",
   "name": "python",
   "nbconvert_exporter": "python",
   "pygments_lexer": "ipython3",
   "version": "3.12.5"
  }
 },
 "nbformat": 4,
 "nbformat_minor": 5
}
