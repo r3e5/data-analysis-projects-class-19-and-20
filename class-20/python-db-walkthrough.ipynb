{
 "cells": [
  {
   "cell_type": "code",
   "execution_count": 2,
   "id": "880e27fd-018c-4277-97d0-19074e40f34f",
   "metadata": {},
   "outputs": [],
   "source": [
    "# Imports \n",
    "import sqlite3"
   ]
  },
  {
   "cell_type": "code",
   "execution_count": 3,
   "id": "f5ed26b2-ecbe-4362-8d9a-6491a59318ac",
   "metadata": {},
   "outputs": [
    {
     "name": "stdout",
     "output_type": "stream",
     "text": [
      "<sqlite3.Connection object at 0x000001D64BC2EB60>\n"
     ]
    }
   ],
   "source": [
    "# Working with and creating new database below for MOVIES\n",
    "movies_db = sqlite3.connect('Movies.db')\n",
    "print(movies_db)"
   ]
  },
  {
   "cell_type": "code",
   "execution_count": 4,
   "id": "3a7b06ab-d11c-4529-8964-4e4e13e82d09",
   "metadata": {
    "scrolled": true
   },
   "outputs": [
    {
     "data": {
      "text/plain": [
       "<sqlite3.Cursor at 0x1d64b57e740>"
      ]
     },
     "execution_count": 4,
     "metadata": {},
     "output_type": "execute_result"
    }
   ],
   "source": [
    "## Creating cursor object, using cursor object to create new tables and add table data\n",
    "cur = movies_db.cursor()\n",
    "# Script to populate table\n",
    "cur.executescript(\"\"\"\n",
    "    BEGIN;\n",
    "    CREATE TABLE movies (title TEXT, genre TEXT, release INTEGER, rt_score INTEGER);\n",
    "    INSERT INTO movies VALUES ('Insterstellar', 'Science Fiction', 2014, 73);\n",
    "    INSERT INTO movies VALUES ('Pride and Prejudice', 'Novel', 2005, 87);\n",
    "    INSERT INTO movies VALUES ('Inception', 'Science Fiction', 2010, 87);\n",
    "    INSERT INTO movies VALUES ('Barbie', 'Comedy', 2023, 88);\n",
    "    INSERT INTO movies VALUES ('Good Will Hunting', 'Drama', 1996, 97);\n",
    "    COMMIT;\n",
    "\"\"\")"
   ]
  },
  {
   "cell_type": "code",
   "execution_count": 5,
   "id": "b97c46ab-a368-4d41-914b-3a92a7179b7f",
   "metadata": {},
   "outputs": [
    {
     "data": {
      "text/plain": [
       "[('Insterstellar', 'Science Fiction', 2014, 73),\n",
       " ('Pride and Prejudice', 'Novel', 2005, 87),\n",
       " ('Inception', 'Science Fiction', 2010, 87),\n",
       " ('Barbie', 'Comedy', 2023, 88),\n",
       " ('Good Will Hunting', 'Drama', 1996, 97)]"
      ]
     },
     "execution_count": 5,
     "metadata": {},
     "output_type": "execute_result"
    }
   ],
   "source": [
    "# Read table data\n",
    "cur.execute(\"SELECT * FROM movies\").fetchall()"
   ]
  },
  {
   "cell_type": "code",
   "execution_count": 6,
   "id": "285b2ce9-4a96-414c-af40-438f40450d45",
   "metadata": {},
   "outputs": [],
   "source": [
    "# Update table data - There was a typo for the release year of Good Will Hunting, lets update this!\n",
    "update_release_year = 1997\n",
    "movie_to_update = 'Good Will Hunting'\n",
    "cur.execute(\"UPDATE movies SET release = ? WHERE title = ?\", [update_release_year, movie_to_update])\n",
    "movies_db.commit()"
   ]
  },
  {
   "cell_type": "code",
   "execution_count": 7,
   "id": "e6d0b952-da72-4cfd-a395-7c8e8cdd03ec",
   "metadata": {},
   "outputs": [
    {
     "data": {
      "text/plain": [
       "[('Insterstellar', 'Science Fiction', 2014, 73),\n",
       " ('Pride and Prejudice', 'Novel', 2005, 87),\n",
       " ('Inception', 'Science Fiction', 2010, 87),\n",
       " ('Barbie', 'Comedy', 2023, 88),\n",
       " ('Good Will Hunting', 'Drama', 1997, 97)]"
      ]
     },
     "execution_count": 7,
     "metadata": {},
     "output_type": "execute_result"
    }
   ],
   "source": [
    "# Verify Update\n",
    "cur.execute(\"SELECT * FROM movies\").fetchall()"
   ]
  },
  {
   "cell_type": "code",
   "execution_count": 8,
   "id": "1800d018-b0af-4179-9680-639398170d85",
   "metadata": {},
   "outputs": [
    {
     "data": {
      "text/plain": [
       "<sqlite3.Cursor at 0x1d64b57e740>"
      ]
     },
     "execution_count": 8,
     "metadata": {},
     "output_type": "execute_result"
    }
   ],
   "source": [
    "# Delete table data\n",
    "movie_to_delete = 'Inception' # Too many sci fi movies!\n",
    "cur.execute(\"DELETE FROM movies WHERE title = ?\", [movie_to_delete])"
   ]
  },
  {
   "cell_type": "code",
   "execution_count": 9,
   "id": "02fcbe24-3b12-4e50-b918-1ef347eda9ec",
   "metadata": {},
   "outputs": [
    {
     "data": {
      "text/plain": [
       "[('Insterstellar', 'Science Fiction', 2014, 73),\n",
       " ('Pride and Prejudice', 'Novel', 2005, 87),\n",
       " ('Barbie', 'Comedy', 2023, 88),\n",
       " ('Good Will Hunting', 'Drama', 1997, 97)]"
      ]
     },
     "execution_count": 9,
     "metadata": {},
     "output_type": "execute_result"
    }
   ],
   "source": [
    "# Confirm movie deleted!\n",
    "cur.execute(\"SELECT * FROM movies\").fetchall()"
   ]
  },
  {
   "cell_type": "code",
   "execution_count": 10,
   "id": "959adb19-fb1d-4d87-881e-f34e9d4ab793",
   "metadata": {},
   "outputs": [
    {
     "name": "stdout",
     "output_type": "stream",
     "text": [
      "('Insterstellar',)\n",
      "('Pride and Prejudice',)\n",
      "('Barbie',)\n",
      "('Good Will Hunting',)\n"
     ]
    }
   ],
   "source": [
    "for row in cur.execute('SELECT title FROM movies'):\n",
    "    print(row)"
   ]
  },
  {
   "cell_type": "code",
   "execution_count": 11,
   "id": "a688441c-8db9-4646-8041-bc125355ecff",
   "metadata": {},
   "outputs": [],
   "source": [
    "# MAKE SURE to close the db connection when we're done with it.\n",
    "## Leaving open connections hanging around can cause our database to be locked \n",
    "movies_db.close()"
   ]
  },
  {
   "cell_type": "code",
   "execution_count": null,
   "id": "2f3630fb-4688-4bd3-bead-d58341e2de99",
   "metadata": {},
   "outputs": [],
   "source": []
  }
 ],
 "metadata": {
  "kernelspec": {
   "display_name": "Python 3 (ipykernel)",
   "language": "python",
   "name": "python3"
  },
  "language_info": {
   "codemirror_mode": {
    "name": "ipython",
    "version": 3
   },
   "file_extension": ".py",
   "mimetype": "text/x-python",
   "name": "python",
   "nbconvert_exporter": "python",
   "pygments_lexer": "ipython3",
   "version": "3.12.5"
  }
 },
 "nbformat": 4,
 "nbformat_minor": 5
}
